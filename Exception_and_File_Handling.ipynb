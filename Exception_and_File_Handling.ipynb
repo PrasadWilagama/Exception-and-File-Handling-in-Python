{
  "nbformat": 4,
  "nbformat_minor": 0,
  "metadata": {
    "colab": {
      "name": "Exception and File Handling.ipynb",
      "provenance": [],
      "collapsed_sections": []
    },
    "kernelspec": {
      "name": "python3",
      "display_name": "Python 3"
    },
    "language_info": {
      "name": "python"
    }
  },
  "cells": [
    {
      "cell_type": "code",
      "execution_count": 1,
      "metadata": {
        "colab": {
          "base_uri": "https://localhost:8080/"
        },
        "id": "Wenfyy1GZoWL",
        "outputId": "30eda0dd-ac1c-4336-89e4-1b4411660604"
      },
      "outputs": [
        {
          "output_type": "stream",
          "name": "stdout",
          "text": [
            "Enter a no 01:35\n",
            "Enter another no 02:5\n",
            "7.0\n"
          ]
        }
      ],
      "source": [
        "try:  \n",
        "    A = int(input(\"Enter a no 01:\"))    \n",
        "    B = int(input(\"Enter another no 02:\"))    \n",
        "    C = A/B  \n",
        "    print(C)\n",
        "except:  \n",
        "    \n",
        "    print(\"Can't divide with Zero\")  "
      ]
    },
    {
      "cell_type": "code",
      "source": [
        "try:      \n",
        "    a=8/0      \n",
        "except(ArithmeticError, IOError):      \n",
        "    print(\"Arithmetic Exception\")      \n",
        "else:      \n",
        "    print(\"Successfully Done\")  "
      ],
      "metadata": {
        "colab": {
          "base_uri": "https://localhost:8080/"
        },
        "id": "m_V7P14JaTU5",
        "outputId": "9756bf34-11ed-4dec-adca-0427c6f8f26c"
      },
      "execution_count": 2,
      "outputs": [
        {
          "output_type": "stream",
          "name": "stdout",
          "text": [
            "Arithmetic Exception\n"
          ]
        }
      ]
    },
    {
      "cell_type": "code",
      "source": [
        "try:\n",
        "  x > 7\n",
        "except:\n",
        "  print(\"Something went wrong\")\n",
        "else:\n",
        "  print(\"Nothing went wrong\")\n",
        "finally:\n",
        "  print(\"The try...except block is finished\")"
      ],
      "metadata": {
        "colab": {
          "base_uri": "https://localhost:8080/"
        },
        "id": "0tywH53vagPO",
        "outputId": "a0a0cb8c-7d82-414e-fc96-2758ad6c1d5c"
      },
      "execution_count": 8,
      "outputs": [
        {
          "output_type": "stream",
          "name": "stdout",
          "text": [
            "Something went wrong\n",
            "The try...except block is finished\n"
          ]
        }
      ]
    },
    {
      "cell_type": "code",
      "source": [
        "try:    \n",
        "    age = int(input(\"Enter the age:\"))    \n",
        "    if(age<18):    \n",
        "        raise ValueError   \n",
        "    else:    \n",
        "        print(\"the age is valid\")    \n",
        "except ValueError:    \n",
        "    print(\"The age is not valid\")   "
      ],
      "metadata": {
        "colab": {
          "base_uri": "https://localhost:8080/"
        },
        "id": "uuYzZJ_CbHNs",
        "outputId": "a5ef49ab-2212-41b3-ef6a-d3f983cd90ff"
      },
      "execution_count": 9,
      "outputs": [
        {
          "output_type": "stream",
          "name": "stdout",
          "text": [
            "Enter the age:23\n",
            "the age is valid\n"
          ]
        }
      ]
    },
    {
      "cell_type": "code",
      "source": [
        "try:    \n",
        "    age = int(input(\"Enter the age:\"))    \n",
        "    if(age<18):    \n",
        "        raise ValueError   \n",
        "    else:    \n",
        "        print(\"the age is valid\")    \n",
        "except ValueError:    \n",
        "    print(\"The age is not valid\")   "
      ],
      "metadata": {
        "colab": {
          "base_uri": "https://localhost:8080/"
        },
        "id": "uryqtG_SbM-w",
        "outputId": "9c1e2f18-99f6-4866-ee97-b66bcda2ee86"
      },
      "execution_count": 10,
      "outputs": [
        {
          "output_type": "stream",
          "name": "stdout",
          "text": [
            "Enter the age:12\n",
            "The age is not valid\n"
          ]
        }
      ]
    },
    {
      "cell_type": "code",
      "source": [
        "try:\n",
        "    f = open(\"sample.txt\", \"r\")\n",
        "    print(f.readline())\n",
        "except:\n",
        "    print(\"Somethings wrong\")   "
      ],
      "metadata": {
        "colab": {
          "base_uri": "https://localhost:8080/"
        },
        "id": "0YwnaHeLbd2N",
        "outputId": "4e1d1281-fda0-4522-b1c0-f715d2af345a"
      },
      "execution_count": 22,
      "outputs": [
        {
          "output_type": "stream",
          "name": "stdout",
          "text": [
            "My Name is Prasad Dananjaya Wilagama\n"
          ]
        }
      ]
    }
  ]
}